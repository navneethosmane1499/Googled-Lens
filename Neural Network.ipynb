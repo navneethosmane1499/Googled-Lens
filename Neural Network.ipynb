{
 "cells": [
  {
   "cell_type": "code",
   "execution_count": 1,
   "metadata": {
    "colab": {},
    "colab_type": "code",
    "id": "IOb8niKdz9ag"
   },
   "outputs": [
    {
     "output_type": "error",
     "ename": "ModuleNotFoundError",
     "evalue": "No module named 'cv2'",
     "traceback": [
      "\u001b[0;31m---------------------------------------------------------------------------\u001b[0m",
      "\u001b[0;31mModuleNotFoundError\u001b[0m                       Traceback (most recent call last)",
      "\u001b[0;32m<ipython-input-1-56177695bccd>\u001b[0m in \u001b[0;36m<module>\u001b[0;34m\u001b[0m\n\u001b[0;32m----> 1\u001b[0;31m \u001b[0;32mimport\u001b[0m \u001b[0mcv2\u001b[0m \u001b[0;32mas\u001b[0m \u001b[0mcv\u001b[0m\u001b[0;34m\u001b[0m\u001b[0;34m\u001b[0m\u001b[0m\n\u001b[0m\u001b[1;32m      2\u001b[0m \u001b[0;32mimport\u001b[0m \u001b[0mnumpy\u001b[0m \u001b[0;32mas\u001b[0m \u001b[0mnp\u001b[0m\u001b[0;34m\u001b[0m\u001b[0;34m\u001b[0m\u001b[0m\n\u001b[1;32m      3\u001b[0m \u001b[0;32mimport\u001b[0m \u001b[0mmatplotlib\u001b[0m\u001b[0;34m.\u001b[0m\u001b[0mpyplot\u001b[0m \u001b[0;32mas\u001b[0m \u001b[0mplt\u001b[0m\u001b[0;34m\u001b[0m\u001b[0;34m\u001b[0m\u001b[0m\n\u001b[1;32m      4\u001b[0m \u001b[0;32mfrom\u001b[0m \u001b[0msklearn\u001b[0m\u001b[0;34m.\u001b[0m\u001b[0mmodel_selection\u001b[0m \u001b[0;32mimport\u001b[0m \u001b[0mtrain_test_split\u001b[0m\u001b[0;34m\u001b[0m\u001b[0;34m\u001b[0m\u001b[0m\n\u001b[1;32m      5\u001b[0m \u001b[0;32mfrom\u001b[0m \u001b[0mkeras\u001b[0m\u001b[0;34m.\u001b[0m\u001b[0mmodels\u001b[0m \u001b[0;32mimport\u001b[0m \u001b[0mSequential\u001b[0m\u001b[0;34m\u001b[0m\u001b[0;34m\u001b[0m\u001b[0m\n",
      "\u001b[0;31mModuleNotFoundError\u001b[0m: No module named 'cv2'"
     ]
    }
   ],
   "source": [
    "import cv2 as cv\n",
    "import numpy as np\n",
    "import matplotlib.pyplot as plt\n",
    "from sklearn.model_selection import train_test_split\n",
    "from keras.models import Sequential\n",
    "from keras.layers import Dense, Conv2D, Flatten\n",
    "from keras.utils import to_categorical"
   ]
  },
  {
   "cell_type": "code",
   "execution_count": 2,
   "metadata": {
    "colab": {},
    "colab_type": "code",
    "id": "PZvJMSl92e7d"
   },
   "outputs": [],
   "source": [
    "X, y = list(), list()\n",
    "for i in range(1,63):\n",
    "    for j in range(1,56):\n",
    "        image_name = f\"62x55/img0{i:02d}-0{j:02d}.png\"\n",
    "        image = cv.imread(image_name, 0)\n",
    "        X.append(image)\n",
    "        y.append(i-1)"
   ]
  },
  {
   "cell_type": "code",
   "execution_count": 3,
   "metadata": {
    "colab": {},
    "colab_type": "code",
    "id": "msNSC-6w3DbY"
   },
   "outputs": [],
   "source": [
    "X = np.array(X)\n",
    "X = X / 255 - 0.5\n",
    "X = X.reshape(3410, 30, 40, 1)\n",
    "y = np.array(y)\n",
    "y = to_categorical(y)\n",
    "x_train, x_test, y_train, y_test = train_test_split(X, y, test_size = 1/5, random_state = 0)"
   ]
  },
  {
   "cell_type": "code",
   "execution_count": 2,
   "metadata": {
    "colab": {},
    "colab_type": "code",
    "id": "wcr-hTQ8en2f"
   },
   "outputs": [
    {
     "name": "stdout",
     "output_type": "stream",
     "text": [
      "WARNING:tensorflow:From c:\\users\\eeshaan achar\\appdata\\local\\programs\\python\\python37\\lib\\site-packages\\tensorflow_core\\python\\ops\\resource_variable_ops.py:1630: calling BaseResourceVariable.__init__ (from tensorflow.python.ops.resource_variable_ops) with constraint is deprecated and will be removed in a future version.\n",
      "Instructions for updating:\n",
      "If using Keras pass *_constraint arguments to layers.\n"
     ]
    }
   ],
   "source": [
    "model = Sequential()\n",
    "model.add(Conv2D(96, kernel_size = 3, activation = 'relu', input_shape = (30, 40, 1)))\n",
    "model.add(Conv2D(96, kernel_size = 3, activation = 'relu'))\n",
    "model.add(Flatten())\n",
    "model.add(Dense(62, activation = 'softmax'))\n",
    "#model.load_weights('model.h5')"
   ]
  },
  {
   "cell_type": "code",
   "execution_count": 8,
   "metadata": {
    "colab": {},
    "colab_type": "code",
    "id": "YSyMg1PPk0AU"
   },
   "outputs": [],
   "source": [
    "model.compile(\n",
    "  optimizer= 'adam',\n",
    "    loss = 'categorical_crossentropy',\n",
    "    metrics = ['accuracy']\n",
    ")"
   ]
  },
  {
   "cell_type": "code",
   "execution_count": 9,
   "metadata": {
    "colab": {
     "base_uri": "https://localhost:8080/",
     "height": 151
    },
    "colab_type": "code",
    "id": "n6kbsLPak3Ov",
    "outputId": "2def6f7c-ba47-4cec-b257-d531f064643a"
   },
   "outputs": [
    {
     "name": "stdout",
     "output_type": "stream",
     "text": [
      "Train on 2728 samples, validate on 682 samples\n",
      "Epoch 1/5\n",
      "2728/2728 [==============================] - 30s 11ms/step - loss: 3.3875 - accuracy: 0.1968 - val_loss: 2.4748 - val_accuracy: 0.3798\n",
      "Epoch 2/5\n",
      "2728/2728 [==============================] - 31s 11ms/step - loss: 1.6135 - accuracy: 0.5806 - val_loss: 2.1531 - val_accuracy: 0.4927\n",
      "Epoch 3/5\n",
      "2728/2728 [==============================] - 31s 11ms/step - loss: 0.8376 - accuracy: 0.7698 - val_loss: 2.2014 - val_accuracy: 0.4971\n",
      "Epoch 4/5\n",
      "2728/2728 [==============================] - 33s 12ms/step - loss: 0.4019 - accuracy: 0.8875 - val_loss: 2.6739 - val_accuracy: 0.5029\n",
      "Epoch 5/5\n",
      "2728/2728 [==============================] - 39s 14ms/step - loss: 0.1764 - accuracy: 0.9545 - val_loss: 3.0915 - val_accuracy: 0.4985\n"
     ]
    },
    {
     "data": {
      "text/plain": [
       "<keras.callbacks.callbacks.History at 0x200372113c8>"
      ]
     },
     "execution_count": 9,
     "metadata": {},
     "output_type": "execute_result"
    }
   ],
   "source": [
    "model.fit(\n",
    "    x_train,\n",
    "    y_train,\n",
    "    validation_data = (x_test, y_test),\n",
    "    epochs = 5\n",
    ")"
   ]
  },
  {
   "cell_type": "code",
   "execution_count": 10,
   "metadata": {
    "colab": {},
    "colab_type": "code",
    "id": "QqE2kck7vYUE"
   },
   "outputs": [],
   "source": [
    "model.save_weights('model.h5')"
   ]
  },
  {
   "cell_type": "code",
   "execution_count": 8,
   "metadata": {
    "colab": {},
    "colab_type": "code",
    "id": "FsMRJu4BqDm-"
   },
   "outputs": [],
   "source": [
    "test_images = list()\n",
    "for i in range(17):\n",
    "    image_name = f\"Segments/ROI_{i}.png\"\n",
    "    image = cv.imread(image_name, 0)\n",
    "    image = cv.resize(image, ((40, 30)))\n",
    "    test_images.append(image)"
   ]
  },
  {
   "cell_type": "code",
   "execution_count": 9,
   "metadata": {
    "colab": {
     "base_uri": "https://localhost:8080/",
     "height": 353
    },
    "colab_type": "code",
    "id": "XgcrBvaJxHw5",
    "outputId": "94a5390a-05e2-40bf-de23-208c8c9fb1fd"
   },
   "outputs": [
    {
     "name": "stdout",
     "output_type": "stream",
     "text": [
      "E\n",
      "W\n",
      "C\n",
      "E\n",
      "Q\n",
      "E\n",
      "8\n",
      "0\n",
      "E\n",
      "Q\n",
      "Z\n",
      "Q\n",
      "x\n",
      "C\n",
      "Y\n",
      "A\n",
      "Q\n"
     ]
    }
   ],
   "source": [
    "test_images = np.array(test_images)\n",
    "test_images = test_images/255 - 0.5\n",
    "test_images = test_images.reshape(17, 30, 40, 1)\n",
    "predictions = model.predict(test_images)\n",
    "mapping = \"0123456789ABCDEFGHIJKLMNOPQRSTUVWXYZabcdefghijklmnopqrstuvwxyz\"\n",
    "for x in np.argmax(predictions, axis =1):\n",
    "    print(mapping[x])"
   ]
  },
  {
   "cell_type": "code",
   "execution_count": null,
   "metadata": {},
   "outputs": [],
   "source": []
  }
 ],
 "metadata": {
  "colab": {
   "collapsed_sections": [],
   "name": "Handwriting Recognition",
   "provenance": []
  },
  "kernelspec": {
   "display_name": "Python 3",
   "language": "python",
   "name": "python3"
  },
  "language_info": {
   "codemirror_mode": {
    "name": "ipython",
    "version": 3
   },
   "file_extension": ".py",
   "mimetype": "text/x-python",
   "name": "python",
   "nbconvert_exporter": "python",
   "pygments_lexer": "ipython3",
   "version": "3.8.2-final"
  }
 },
 "nbformat": 4,
 "nbformat_minor": 1
}