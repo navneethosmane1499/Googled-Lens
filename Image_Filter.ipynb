{
  "nbformat": 4,
  "nbformat_minor": 0,
  "metadata": {
    "colab": {
      "name": "Image_Filter.ipynb",
      "provenance": [],
      "collapsed_sections": [],
      "mount_file_id": "1pjLjobycaXkqLl_0pRnhjzeqGJx2Y2Bn",
      "authorship_tag": "ABX9TyO8160BEq/LqOZxrvSd2IOS",
      "include_colab_link": true
    },
    "kernelspec": {
      "name": "python3",
      "display_name": "Python 3"
    },
    "language_info": {
      "name": "python"
    }
  },
  "cells": [
    {
      "cell_type": "markdown",
      "metadata": {
        "id": "view-in-github",
        "colab_type": "text"
      },
      "source": [
        "<a href=\"https://colab.research.google.com/github/navneethosmane1499/Googled-Lens/blob/master/Image_Filter.ipynb\" target=\"_parent\"><img src=\"https://colab.research.google.com/assets/colab-badge.svg\" alt=\"Open In Colab\"/></a>"
      ]
    },
    {
      "cell_type": "code",
      "metadata": {
        "colab": {
          "base_uri": "https://localhost:8080/"
        },
        "id": "sP15WFjJjuE4",
        "outputId": "b217faf1-32fe-4aa1-f856-b8d406e4ff06"
      },
      "source": [
        "from google.colab import drive\n",
        "drive.mount('/content/drive')"
      ],
      "execution_count": null,
      "outputs": [
        {
          "output_type": "stream",
          "text": [
            "Mounted at /content/drive\n"
          ],
          "name": "stdout"
        }
      ]
    },
    {
      "cell_type": "code",
      "metadata": {
        "colab": {
          "base_uri": "https://localhost:8080/"
        },
        "id": "HUG4ly7jkKh9",
        "outputId": "4c8cde5e-6c86-4818-98bf-67b0e2b60a6d"
      },
      "source": [
        "! kaggle competitions download -c aptos2019-blindness-detection"
      ],
      "execution_count": null,
      "outputs": [
        {
          "output_type": "stream",
          "text": [
            "Downloading aptos2019-blindness-detection.zip to /content\n",
            "100% 9.49G/9.51G [01:31<00:00, 99.7MB/s]\n",
            "100% 9.51G/9.51G [01:31<00:00, 111MB/s] \n"
          ],
          "name": "stdout"
        }
      ]
    },
    {
      "cell_type": "code",
      "metadata": {
        "id": "YL10syROoPLu"
      },
      "source": [
        "! unzip aptos2019-blindness-detection.zip"
      ],
      "execution_count": null,
      "outputs": []
    },
    {
      "cell_type": "code",
      "metadata": {
        "id": "UHMcs0JEoToY"
      },
      "source": [
        "import pandas as pd\n",
        "import numpy as np\n",
        "import os\n",
        "import cv2\n",
        "from google.colab.patches import cv2_imshow"
      ],
      "execution_count": null,
      "outputs": []
    },
    {
      "cell_type": "code",
      "metadata": {
        "id": "JHbX8efYrV2Q"
      },
      "source": [
        "file_name = []\n",
        "file_path = []\n",
        "id_code = []\n",
        "for image in os.listdir('/content/drive/MyDrive/processed_test_images'):\n",
        "  file_name.append(image)\n",
        "  file_path.append('/content/drive/MyDrive/processed_test_images/'+image)\n",
        "  id_code.append(image.replace('.png', ''))\n",
        "test_df = pd.DataFrame(list(zip(id_code, file_path, file_name)), columns=['id_code', 'file_path', 'file_name'])\n",
        "test_df.to_csv('/content/drive/MyDrive/test_df.csv')"
      ],
      "execution_count": null,
      "outputs": []
    },
    {
      "cell_type": "code",
      "metadata": {
        "id": "Yq9agITnrutB"
      },
      "source": [
        "file_name = []\n",
        "file_path = []\n",
        "id_code = []\n",
        "for image in os.listdir('/content/drive/MyDrive/processed_trained_images'):\n",
        "  file_name.append(image)\n",
        "  file_path.append('/content/drive/MyDrive/processed_trained_images/'+image)\n",
        "  id_code.append(image.replace('.png', ''))\n",
        "train_labels_df = pd.read_csv('/content/train.csv')\n",
        "train_df = pd.merge(pd.DataFrame(list(zip(id_code, file_path, file_name)), columns=['id_code', 'file_path', 'file_name']), train_labels_df, on='id_code')\n",
        "train_df.to_csv('/content/drive/MyDrive/train_df.csv')"
      ],
      "execution_count": null,
      "outputs": []
    },
    {
      "cell_type": "code",
      "metadata": {
        "id": "T2n5JrASsX0W"
      },
      "source": [
        "train_df = pd.read_csv('train_df.csv')\n",
        "test_df = pd.read_csv('test_df.csv')\n",
        "print(train_df.shape, test_df.shape)"
      ],
      "execution_count": null,
      "outputs": []
    },
    {
      "cell_type": "code",
      "metadata": {
        "colab": {
          "base_uri": "https://localhost:8080/"
        },
        "id": "jzNv2nm6s0gV",
        "outputId": "4b58b717-cda7-40eb-ee8b-ddbc6018e167"
      },
      "source": [
        "train_df['diagnosis'] = train_df['diagnosis'].apply(str)\n",
        "train_df.dtypes"
      ],
      "execution_count": null,
      "outputs": [
        {
          "output_type": "execute_result",
          "data": {
            "text/plain": [
              "Unnamed: 0     int64\n",
              "id_code       object\n",
              "file_path     object\n",
              "file_name     object\n",
              "diagnosis     object\n",
              "dtype: object"
            ]
          },
          "metadata": {
            "tags": []
          },
          "execution_count": 38
        }
      ]
    },
    {
      "cell_type": "code",
      "metadata": {
        "id": "4pKZfnjKs_8-"
      },
      "source": [
        "IMG_SIZE = 512\n",
        "def crop_image_from_gray(img,tol=7):\n",
        "    if img.ndim ==2:\n",
        "        mask = img>tol\n",
        "        return img[np.ix_(mask.any(1),mask.any(0))]\n",
        "    elif img.ndim==3:\n",
        "        gray_img = cv2.cvtColor(img, cv2.COLOR_RGB2GRAY)\n",
        "        mask = gray_img>tol\n",
        "        \n",
        "        check_shape = img[:,:,0][np.ix_(mask.any(1),mask.any(0))].shape[0]\n",
        "        if (check_shape == 0): # image is too dark so that we crop out everything,\n",
        "            return img # return original image\n",
        "        else:\n",
        "            img1=img[:,:,0][np.ix_(mask.any(1),mask.any(0))]\n",
        "            img2=img[:,:,1][np.ix_(mask.any(1),mask.any(0))]\n",
        "            img3=img[:,:,2][np.ix_(mask.any(1),mask.any(0))]\n",
        "    #         print(img1.shape,img2.shape,img3.shape)\n",
        "            img = np.stack([img1,img2,img3],axis=-1)\n",
        "    #         print(img.shape)\n",
        "        return img"
      ],
      "execution_count": null,
      "outputs": []
    },
    {
      "cell_type": "code",
      "metadata": {
        "id": "z7wjpiHA2IIa"
      },
      "source": [
        "def circle_crop(img, sigmaX = 30):   \n",
        "    \"\"\"\n",
        "    Create circular crop around image centre    \n",
        "    \"\"\"    \n",
        "    img = crop_image_from_gray(img)    \n",
        "    img = cv2.cvtColor(img, cv2.COLOR_BGR2RGB)\n",
        "    \n",
        "    height, width, depth = img.shape    \n",
        "    \n",
        "    x = int(width/2)\n",
        "    y = int(height/2)\n",
        "    r = np.amin((x,y))\n",
        "    \n",
        "    circle_img = np.zeros((height, width), np.uint8)\n",
        "    cv2.circle(circle_img, (x,y), int(r), 1, thickness=-1)\n",
        "    img = cv2.bitwise_and(img, img, mask=circle_img)\n",
        "    img = crop_image_from_gray(img)\n",
        "    img=cv2.addWeighted(img,4, cv2.GaussianBlur( img , (0,0) , sigmaX) ,-4 ,128)\n",
        "    return img "
      ],
      "execution_count": null,
      "outputs": []
    },
    {
      "cell_type": "code",
      "metadata": {
        "id": "FAaVfsOm9Asi"
      },
      "source": [
        "for image in os.listdir('/content/train_images'):\n",
        "    img = cv2.imread('/content/train_images/'+image)\n",
        "    img = circle_crop(img) \n",
        "    cv2.imwrite('/content/drive/MyDrive/processed_trained_images/'+image, cv2.resize(img, (IMG_SIZE,IMG_SIZE)))"
      ],
      "execution_count": null,
      "outputs": []
    },
    {
      "cell_type": "code",
      "metadata": {
        "id": "nCtwaBqb9x5A"
      },
      "source": [
        "for image in os.listdir('/content/test_images'):\n",
        "    img = cv2.imread('/content/test_images/'+image)\n",
        "    img = circle_crop(img) \n",
        "    cv2.imwrite('/content/drive/MyDrive/processed_test_images/'+image, cv2.resize(img, (IMG_SIZE,IMG_SIZE)))"
      ],
      "execution_count": null,
      "outputs": []
    }
  ]
}